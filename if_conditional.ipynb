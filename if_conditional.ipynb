{
 "cells": [
  {
   "cell_type": "code",
   "execution_count": null,
   "id": "1392ca21",
   "metadata": {},
   "outputs": [],
   "source": [
    "note_1 = int(input(\"1. Yazılı Notunuzu girin: \"))\n",
    "note_2 = int(input(\"2. Yazılı Notunuzu girin: \"))\n",
    "note_3 = int(input(\"3. Yazılı Notunuzu girin: \"))\n",
    "ort = (note_1 + note_2 + note_3)/3\n",
    "print (\"Ortalama: \", ort)\n",
    "if ort > 90:\n",
    "    print(\"Süper Zeka\")\n",
    "elif ort < 90 and ort > 80:\n",
    "    print(\"fena değil\")\n",
    "elif ort < 80 and ort > 70:\n",
    "    print(\"kötü sayılır\")\n",
    "elif ort < 70 and ort > 60:\n",
    "    print(\"Çok kötü\")\n",
    "else:\n",
    "    print(\"Man KAFA!\")\n"
   ]
  },
  {
   "cell_type": "code",
   "execution_count": null,
   "id": "7abf1908",
   "metadata": {},
   "outputs": [],
   "source": []
  },
  {
   "cell_type": "code",
   "execution_count": null,
   "id": "d227977e",
   "metadata": {},
   "outputs": [],
   "source": []
  }
 ],
 "metadata": {
  "kernelspec": {
   "display_name": "Python 3 (ipykernel)",
   "language": "python",
   "name": "python3"
  },
  "language_info": {
   "codemirror_mode": {
    "name": "ipython",
    "version": 3
   },
   "file_extension": ".py",
   "mimetype": "text/x-python",
   "name": "python",
   "nbconvert_exporter": "python",
   "pygments_lexer": "ipython3",
   "version": "3.10.9"
  }
 },
 "nbformat": 4,
 "nbformat_minor": 5
}
